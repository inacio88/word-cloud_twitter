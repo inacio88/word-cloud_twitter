{
  "nbformat": 4,
  "nbformat_minor": 0,
  "metadata": {
    "colab": {
      "name": "nuvemDePalavraSextaFeira.ipynb",
      "provenance": [],
      "collapsed_sections": [],
      "toc_visible": true
    },
    "kernelspec": {
      "name": "python3",
      "display_name": "Python 3"
    },
    "language_info": {
      "name": "python"
    }
  },
  "cells": [
    {
      "cell_type": "code",
      "metadata": {
        "id": "qBYFjEjUjzYb"
      },
      "source": [
        "import pandas as pd\n",
        "import matplotlib.pyplot as plt\n",
        "from wordcloud import WordCloud\n",
        "import sys, os"
      ],
      "execution_count": null,
      "outputs": []
    },
    {
      "cell_type": "code",
      "metadata": {
        "id": "bgNz0ViFqiI7"
      },
      "source": [
        "def stopwordslist():\n",
        "  lines = []\n",
        "  with open(\"stopwords2.txt\", \"r\") as stopfile:\n",
        "    lines = [line.strip() for line in stopfile.readlines()]\n",
        "  return lines\n",
        "  "
      ],
      "execution_count": null,
      "outputs": []
    },
    {
      "cell_type": "code",
      "metadata": {
        "id": "_ki7BjvDkWLK"
      },
      "source": [
        "dados = pd.read_csv ('NomeDoarquivo.csv', sep='\\t')\n",
        "df = pd.DataFrame(dados, columns= ['tweet'])\n",
        "df2 = df.to_string().lower()"
      ],
      "execution_count": null,
      "outputs": []
    },
    {
      "cell_type": "code",
      "metadata": {
        "id": "nzV3XTzvkhKr"
      },
      "source": [
        "TO_REMOVE = ['(',')','[',']',',','.','!','?']\n",
        "print(df2)"
      ],
      "execution_count": null,
      "outputs": []
    },
    {
      "cell_type": "code",
      "metadata": {
        "colab": {
          "base_uri": "https://localhost:8080/"
        },
        "id": "tiRT77Ry-W02",
        "outputId": "8890aa7a-9783-438e-ad11-ab68cc574635"
      },
      "source": [
        "stopwords1 = stopwordslist()\n",
        "print(stopwords1)"
      ],
      "execution_count": null,
      "outputs": [
        {
          "output_type": "stream",
          "text": [
            "['de', 'a', 'o', 'que', 'e', 'do', 'da', 'em', 'um', 'para', 'é', 'com', 'não', 'uma', 'os', 'no', 'se', 'na', 'por', 'mais', 'as', 'dos', 'como', 'mas', 'foi', 'ao', 'ele', 'das', 'tem', 'à', 'seu', 'sua', 'ou', 'ser', 'quando', 'muito', 'há', 'nos', 'já', 'está', 'eu', 'também', 'só', 'pelo', 'pela', 'até', 'isso', 'ela', 'entre', 'era', 'depois', 'sem', 'mesmo', 'aos', 'ter', 'seus', 'quem', 'nas', 'me', 'esse', 'eles', 'estão', 'você', 'tinha', 'foram', 'essa', 'num', 'nem', 'suas', 'meu', 'às', 'minha', 'têm', 'numa', 'pelos', 'elas', 'havia', 'seja', 'qual', 'será', 'nós', 'tenho', 'lhe', 'deles', 'essas', 'esses', 'pelas', 'este', 'fosse', 'dele', 'tu', 'te', 'vocês', 'vos', 'lhes', 'meus', 'minhas', 'teu', 'tua', 'teus', 'tuas', 'nosso', 'nossa', 'nossos', 'nossas', 'dela', 'delas', 'esta', 'estes', 'estas', 'aquele', 'aquela', 'aqueles', 'aquelas', 'isto', 'aquilo', 'estou', 'está', 'estamos', 'estão', 'estive', 'esteve', 'estivemos', 'estiveram', 'estava', 'estávamos', 'estavam', 'estivera', 'estivéramos', 'esteja', 'estejamos', 'estejam', 'estivesse', 'estivéssemos', 'estivessem', 'estiver', 'estivermos', 'estiverem', 'hei', 'há', 'havemos', 'hão', 'houve', 'houvemos', 'houveram', 'houvera', 'houvéramos', 'haja', 'hajamos', 'hajam', 'houvesse', 'houvéssemos', 'houvessem', 'houver', 'houvermos', 'houverem', 'houverei', 'houverá', 'houveremos', 'houverão', 'houveria', 'houveríamos', 'houveriam', 'sou', 'somos', 'são', 'era', 'éramos', 'eram', 'fui', 'foi', 'fomos', 'foram', 'fora', 'fôramos', 'seja', 'sejamos', 'sejam', 'fosse', 'fôssemos', 'fossem', 'for', 'formos', 'forem', 'serei', 'será', 'seremos', 'serão', 'seria', 'seríamos', 'seriam', 'tenho', 'tem', 'temos', 'tém', 'tinha', 'tínhamos', 'tinham', 'tive', 'teve', 'tivemos', 'tiveram', 'tivera', 'tivéramos', 'tenha', 'tenhamos', 'tenham', 'tivesse', 'tivéssemos', 'tivessem', 'tiver', 'tivermos', 'tiverem', 'terei', 'terá', 'teremos', 'terão', 'teria', 'teríamos', 'teriam', 'vc', 'rt', 'vai', 'eu', 'tudo', 'cara', 'sobre', 'ver', 'todo', 'ainda', 'dá', 'hj', 'faz', 'outro', 'aí', 'tudo', 'vou', 'acho', 'aqui', 'pessoa', 'fazer', 'coisa', 'dessa', 'agora', 'parece', 'lá', 'meio', 'pq', 'isso', 'ano', 'gente', 'tipo', 'então', 'alguém', 'sei', 'pode', 'hoje', 'dia', 'fez', 'boa', 'mim', 'tu', 'tão', 'falando', 'menos', 'gt', 'dois', 'sim', 'bem', 'bom', 'falar', 'não', 'nada', 'nome', 'todos', 'sempre', 'disso', 'desse', 'achei', 'vem', 'ir', 'pra', 'filosofia', 'filo', '', '', 'deve', 'onde', 'antes']\n"
          ],
          "name": "stdout"
        }
      ]
    },
    {
      "cell_type": "code",
      "metadata": {
        "id": "lxezZdQ_vifl"
      },
      "source": [
        "parts = df2.split()\n",
        "stopwords = stopwordslist()"
      ],
      "execution_count": null,
      "outputs": []
    },
    {
      "cell_type": "code",
      "metadata": {
        "colab": {
          "base_uri": "https://localhost:8080/"
        },
        "id": "9dovOZl7_MN5",
        "outputId": "bb1f9bd9-6b4a-4950-f4ed-1c34f1d13fab"
      },
      "source": [
        "print(len(parts))"
      ],
      "execution_count": null,
      "outputs": [
        {
          "output_type": "stream",
          "text": [
            "2700977\n"
          ],
          "name": "stdout"
        }
      ]
    },
    {
      "cell_type": "code",
      "metadata": {
        "colab": {
          "base_uri": "https://localhost:8080/"
        },
        "id": "vrctFCHGAYGK",
        "outputId": "05453fcc-c662-4f14-e578-1b6a7c79e971"
      },
      "source": [
        "print(parts)"
      ],
      "execution_count": null,
      "outputs": [
        {
          "output_type": "stream",
          "text": [
            "IOPub data rate exceeded.\n",
            "The notebook server will temporarily stop sending output\n",
            "to the client in order to avoid crashing it.\n",
            "To change this limit, set the config variable\n",
            "`--NotebookApp.iopub_data_rate_limit`.\n",
            "\n",
            "Current values:\n",
            "NotebookApp.iopub_data_rate_limit=1000000.0 (bytes/sec)\n",
            "NotebookApp.rate_limit_window=3.0 (secs)\n",
            "\n"
          ],
          "name": "stderr"
        }
      ]
    },
    {
      "cell_type": "code",
      "metadata": {
        "id": "a7Rb7W2a_MZy"
      },
      "source": [
        "word = [part for part in parts if part not in stopwords]"
      ],
      "execution_count": null,
      "outputs": []
    },
    {
      "cell_type": "code",
      "metadata": {
        "colab": {
          "base_uri": "https://localhost:8080/"
        },
        "id": "LNX4WvYM_Mkc",
        "outputId": "bebb773b-9673-46ac-bbf8-35ff60142fc8"
      },
      "source": [
        "print(len(word))"
      ],
      "execution_count": null,
      "outputs": [
        {
          "output_type": "stream",
          "text": [
            "1960412\n"
          ],
          "name": "stdout"
        }
      ]
    },
    {
      "cell_type": "code",
      "metadata": {
        "colab": {
          "base_uri": "https://localhost:8080/"
        },
        "id": "mhInvlFJALnP",
        "outputId": "31c3b6ee-51a9-417d-af23-3f594dbb84b7"
      },
      "source": [
        "print(word)"
      ],
      "execution_count": null,
      "outputs": [
        {
          "output_type": "stream",
          "text": [
            "['tweet', '0', 'olhando', 'front', 'lace', 'internet', 'dar', 'presente', 'mães', 'deprimente', 'viu', '1', 'caralhoooooooo', 'série', 'obra', 'arte', 'discordar', 'discorde', 'casa', '2', 'vamo', 'sair', 'pandemia', 'cedo', 'melhor', 'merda', 'logo', 'der', 'ruim', 'tô', 'saindo', 'casa', 'ninguém', 'né', '3', 'them', 'mds', '???????', '4', 'dormi', 'noite', 'q', '5', 'eventos', 'família', 'real', 'assistir', 'tanta', 'confirma', 'famosos', '\"boatos\"', 'fato', 'anne', 'preferida', 'philip', 'charles', 'rancor', 'fica', 'nítido', 'expressões', 'durante', 'funeral', 'q', 'percebem', '6', '@gillespiegoth', 'oi,', 'passar', 'pdf', 'favor??', 'única', 'versão', 'q', 'consegui', 'tá', 'toda', 'zuada', '7', 'procurar', 'cadeira', 'pendura', 'teto', 'crochê', 'material', 'rede', 'escrevi', '\"balanço', 'adulto\"', 'apareceu', 'monte', 'erótica', 'foto', 'pornográfica', 'mds', 'q', 'errei', '8', 'ai', 'nervoso', 'toda', 'hr', 'achando', 'q', 'iam', 'afogar', '?????', '9', '@coachdpapainoel', 'q', 'mg', 'estado', 'q', 'facul', 'pública', '10', 'pequena', 'lo', 'pequena', 'conte', 'comigo', '11', 'tentar', 'começar', 'ler', 'vida', 'pequena', 'deus', 'abençoa', '12', 'novamente', 'viih', 'tubos', 'chegou', 'aonde', 'chegou', '20', 'anos', 'sendo', 'sonsa', 'galera', '13', 'goiano', 'milho', 'caso', 'amor', '14', 'vei', 'história', 'bizarra', 'tava', 'covid', 'galera', 'amputou', 'braço', '?????????', '15', 'aff', 'vei', 'fofo', '16', 'aniversário', 'julho', '17', '10', 'meia', 'noite', 'q', 'aceitar', 'sisu', 'tá', 'funcionar', '3', 'hrs', 'q', 'rolar', 'trocar', 'nota', '18', 'soubesse', 'little', 'fires', 'everywhere', 'assim', 'assistido', 'caramba', 'tanta', 'além', 'coisas', 'explicar', 'complexidade', 'mds', 'genial', '19', 'conclusões', 'demorou', 'secar', 'tá', 'cheio', 'friz', 'completamente', 'embaraçado', 'tempo', 'ficou', 'solto', 'secar', '20', 'lavei', 'cabelo', 'deixei', 'secar', 'qualquer', 'finalizador.....que', 'experiência', 'vei', '21', 'pessoal', 'soubesse', 'tanto', 'proteína', 'feijão', 'sentiria', 'vergonha', 'perguntar', '22', '@karinepla', 'cpf', 'colocar', 'serasa....', '23', '@bymypsa', 'enfim', 'conseguiu', 'agradar', '24', 'disse', 'q', 'arrumar', 'terça', 'feira', '??????', 'domingo', 'deus', '25', 'toda', 'vez', 'vejo', 'foto', 'barraca', 'beira', 'água', 'cachoeira', 'consigo', 'pensar', 'mds', 'vier', 'tromba', \"d'água\", 'noite', 'levar', 'povo', 'embora', '26', 'arrumar', 'porra', 'site', 'nao', 'querem', 'ne', 'sonso', '27', 'adianta', 'algum', 'inferno', 'prorrogar', 'sisu', '5', 'dias', 'arruma', 'bug', 'dupla', 'classificação', 'caralho', 'heim', 'adianta', '??????????', 'deus', 'odeio', 'inferno', 'governo', 'burro', '28', 'mds', 'odeio', 'governo', 'inferno', '29', 'perco', 'hora', 'q', 'telma', 'joga', 'chinelo', 'mulher', '30', 'verídico', '31', 'vontade', 'assistir', 'nova', 'onda', 'imperador', '32', 'murilo', 'benício', 'tais', 'araújo.....', '33', '@karinepla', 'estiloso', 'voto', '34', 'moro', 'nessa', 'cidade', 'desde', 'existo', 'mínima', 'noção', 'compra', 'certas', 'coisas', 'miçangas', '35', 'sapatão', 'bandida', 'peruca', 'fugindo', 'polícia', 'kkkkkkkkk', 'amo', 'novela', 'deus', '36', '@jxmillys', 'parabénsssss', '37', 'comprei', 'kit', 'pintura', 'china', 'shopee', 'ninguém', 'segura', '38', '@bymypsa', 'rolê', 'divertido', 'auto', 'astral', '39', 'sabiaaaaaa', 'primeira', 'pensei', 'rouba', 'criança', 'sumir', 'mundo', '40', 'certo', 'consegui', 'youtube', 'chorei', 'soluçar', 'obrigada', 'manoela', 'dias', 'refrescos', '41', 'nao', 'to', 'acreditando', 'perdi', 'novela', 'causa', 'horario', 'jogo', 'aaaaaaaa', 'inferno', 'país', 'futebol', 'to', 'desde', 'março', 'passado', 'esperando', 'lurdes', 'encontrar', 'domenico', 'q', 'finalmente', 'passa', 'momento', 'assisti', 'deus', 'globo', 'ódio', '42', '@de_sanduiche', 'kgjfkgjgkk', 'facada', 'costas', 'amigo', 'amei', '43', 'q', 'caio', '44%', '????', 'quase', 'q', 'saiu', 'vei', 'comassim', '44', 'enfim', 'homi', 'saiu', '45', 'emmy', 'adriana', 'esteves', 'pelamor', 'deus', '46', 'chorei', 'desidratei', '47', 'caralho', 'dona', 'lurdes', 'quebra', 'pedaço', 'telha', 'veio', '????', 'pelamor', 'deus', 'mulhe', 'reage', '48', 'sapatão', 'bandida', 'princípios,', 'amo', '49', 'amor', 'mãe', 'virar', 'morte', 'mãe', 'agorinha', 'jeito', 'q', 'novela', 'tá', 'indo', '50', '@brucegothm', 'usou', 'vacina', 'causa', 'autismo', '?', 'kkkkkkkkkk', '51', 'aneim', 'preguiça', '52', 'caraí', 'quase', '6', 'hora', 'q', 'tô', 'fazendo', 'deus', '53', 'madrugada', 'xingando', 'site', 'governo,', 'novo', '54', 'ala', '2', 'hrs', 'site', 'sisu', 'caiu', '55', 'artur', 'pocah', 'chorando', 'juntos', 'kkkkkkkkk', 'condições', '56', 'mds', 'camila', 'muita', 'paciência', 'viu....', '57', 'joão', 'jantou', 'camila', 'enterrou', '58', 'troci', 'pro', 'fiuk', 'levar', 'soco', 'pro', 'bananão', 'expulso', 'mão', 'consciência', '59', 'cu', 'trancado', 'forte', 'q', 'ficar', 'cagar', 'resto', 'programa', 'agr', '60', 'mds', 'rodolfo', 'insuportável', 'cala', 'boca', '61', 'silêncio', 'joão', 'dar', 'aula', '62', 'dei', 'berro', 'pensei', 'queria', 'dizer', '\"picah\"', 'kkkkkkkfjgkk', '63', 'gil', 'amo', 'kfjfjfjfkkkkkkk', '64', 'telma', 'virou', 'carminha', 'todinha', 'comeque', 'adriana', 'esteves', '????', '65', 'mano', '**', '****', '***', 'bruno', 'mars', 'tranquilo', '66', '@coachdpapainoel', '@karinepla', 'bolsonaro', 'disse', 'mesma', '67', 'q', 'mora', 'interior', 'goiás', 'momento', 'felicidade', 'frete', 'né', '68', 'comparação', 'tão?????', 'quero', 'fã', 'bbb', 'continuar', 'dando', 'engajamento', 'q', 'reality', 'acabar', 'fã', 'adolescente', 'viih', 'tubos', 'firme', 'forte', 'bbb', '16m', 'visualização', 'novela', 'ruim', 'yt', 'qualquer', '69', 'recebeu', 'print', 'recebeu,', 'resto', 'questionar', 'amizade', 'brincadeira', 'enjoei', '70', 'mds', 'ódio', 'botar', 'barba', '71', 'to', 'ai', 'amigos', 'picrew', 'pedir', 'permissão', '72', 'vídeo', 'menino', '18', 'anos', 'diferença', 'idade', 'irmã', '4', 'anos', 'pensei', 'coitado', 'lembrei', 'q', '21', 'anos', 'irmão', '8', 'meses', 'kdhdjdkdkk', 'rindo', 'nervoso', '73', 'medo', 'gil', 'sair', 'insuportáveis', '74', 'apresentador', 'sonso', 'nisso', 'né', '75', 'conta', 'tonto', 'tiago', 'ta', 'falando,', 'fim', 'juliette', 'so', 'caio', 'puxou', '??????', 'qualqer', 'q', 'ia', 'puxar', '76', 'entendo', 'povo', 'fica', 'chocado', 'viih', 'tube', 'ninguém', 'chega', 'aonde', 'chegou', '20', 'anos', 'sendo', 'sonsa', '77', 'gilberto', 'surtando', 'colocaram', 'foto', 'igreja', 'kkkkkkkkkkkk', 'amo', '78', 'finalmente', 'prazer', 'finalizar', 'leitura', 'goodreads', 'sendo', 'audio', 'book', '79', 'historia', 'livro', 'final', '??????????', '80', 'ai', 'ai', 'queria', 'filminho', 'assistir', '81', 'cachorro', 'velhinho', '😭🥰🥰', '82', 'telma', 'fica', 'inteiro', 'conversando', 'plano', 'foto', 'pandemia', 'q', 'mundo', 'ta', 'casa', 'ninguém', 'nunca', 'escuta', 'cara,', 'casa', 'grande', 'infernos', '???', '83', 'sonho', '84', 'tá', 'foda', 'viu', 'consigo', 'ficar', '5', 'minuto', 'concentrada', 'mesma', '85', 'melhor', 'parte', 'enfiando', 'livro', 'livro', 'bunda', 'achando', 'q', 'ninguém', 'percebeu', '86', 'dedicada', 'cabelo', 'ficado', 'ruiva', 'muuuito', 'tempo', '87', '@aaaaaalexandre', 'vcs', 'q', 'jesus', 'morreu', 'tbm,', 'culto', 'vão', '?', '88', 'evangélico', 'tbm', 'sexta', 'feira', 'santa???', '89', 'sabadou', 'dando', 'banho', 'jabuti', '90', 'caralho', 'compilado', 'lo', 'fi', 'tim', 'maia', 'youtube', 'deus', 'https://t.co/5xe7ybe3rt', '91', 'vei.', '92', 'babu', 'vendo', 'vídeo', 'daniel', 'enfiando', 'dedo', 'garrafa', 'mexer', 'café', '93', 'leila', 'insuportável', 'começo', 'novela', 'agr', 'beija', 'mulhe', 'tá', 'toda', 'boiolinha', 'amei', '94', 'acordar', 'rindo', 'sonho', 'engraçado', 'vei', 'flfjfjkkkkk', 'deus', 'abençoe', 'antialérgico', '95', 'impossivel', 'assistir', 'the', \"handmaid's\", 'tale', 'li', 'testamentos', 'pois', 'rezume', 'pura', 'agonia', 'esperança', '96', 'mds', 'dona', 'lurdes', 'momento', 'paz', 'nessa', 'novela', '97', 'q', 'pochete', 'q', 'comprei', 'semana', 'pandemia', 'tá', 'estilosa', 'pandemia', 'acaba', '98', 'golpe', 'caída', 'bolsonaro', '99', 'gilberto', 'pare', 'comprar', 'briga', 'causa', 'mulhe', 'implorando', '100', 'aaaaaaaa', 'ta', 'vivaaaaaaaa', '101', 'q', 'nunca', 'chorei', 'tanto', 'assim', 'assistindo', 'novela', 'mds', 'q', 'rolou', '102', 'mds', 'tao', 'fazendo', 'velório', 'online', '103', 'olhar', 'nota', 'tá', 'caos', 'imagina', 'sisu', '104', '3', 'mulher', 'levou', 'tiro', 'mato', 'aguento', '105', 'vdd', '@brucegothm', 'tamo', 'elenco', 'https://t.co/5uygvniney', '106', 'fazia', 'tempo', 'fracassava', 'assim', 'cozinha', 'tô', 'triste', '107', 'brasileiro', 'paz', 'né', '108', 'usando', 'forninho', 'mini', 'bolinho', 'tomara', 'q', 'preste', '109', 'assim', 'ideias', 'https://t.co/cpe4nors1b', '110', '3', 'hora', 'conseguir', 'filme', '3', 'pesquisando', 'entender', 'rolou', '111', 'caralho', 'sol', 'rosinha', 'lua', 'cheia', 'belíssimo', '112', 'pelamor', 'deus', 'lurdes', 'morreu', 'nao', 'carai', '??????', '113', '@terrinhax', 'perai', '114', '@terrinhax', 'olá', 'interesse', '115', '@coachdpapainoel', '116', 'povo', 'oficina', 'coloca', 'parafuso', 'roda', 'máquininha', 'consegui', 'simples', 'tarefa', 'troca', 'desgraça', 'pneu', '117', '@brucegothm', 'https://t.co/lmgtmbpuse', '118', 'aaaaaaaaaaaaa', 'ta', 'morrendo', '119', 'tocou', 'inês', 'brasil', 'festa', 'gil', '🗣🗣🗣🗣🗣', '120', '@jlorraness', 'linda', 'graduada', '👏👏👏👏', '121', 'nunca', 'tweet', 'representou', 'tanto', '122', 'ate', 'q', 'enfim', 'estudante', 'medicina', 'viralizando', 'alguma', 'certa', '123', 'globo', 'terminou', 'novela', 'cedo', 'passar', 'velozes', 'furiosos', 'aneim', 'vei', 'pelamor', 'deus', '124', 'ódio', 'to', 'vendo', 'alguma', 'personagem', 'câncer', 'povo', 'fica', 'reforçando', 'estereótipo', 'tratar', 'igual', 'morimbudo', 'cai', 'dura', 'morta', 'qualquer', 'momento', 'inferno', '125', 'q', 'altura', 'campeonato', 'lurdes', 'ia', 'tá', 'acabando', 'raça', 'telma', 'tá', 'calma', '???????', '126', 'creme', 'secou', 'cabelo', 'tudim', 'odiooooo', '127', 'hidratação', 'cabelo', 'botei', 'sacolinha', 'cabeça', 'vinte', 'minutos', 'q', 'passou', 'duas', 'hora', 'esqueci', 'q', 'q', 'exagua', 'cabelo', '128', 'meia', 'noite', 'reboco', 'completo', 'fica', 'casa', 'deu', 'vontade', 'brasil', 'q', 'comigo', '129', '@bymypsa', 'q', 'li', 'rápido', 'q', 'tava', 'sociologia', 'pensei', 'ue', 'morreu', 'tempo', '????', '130', 'ate', 'enfim', 'lurdes', 'achou', 'domenico', 'mds', 'alegria', 'https://t.co/a2wlaknoui', '131', 'preciso', 'parar', 'achar', 'q', 'tô', 'máscara', 'ninguém', 'reconhecer', 'sai', 'casa', 'igual', 'desgraçada', 'q', 'comprar', 'única', 'mercado', 'hr', 'q', 'tava', 'caixa', 'menino', 'q', 'fiz', 'fundamental', 'chamou', 'além', 'vergonha', 'perguntou', 'q', 'tava', 'estudando', '132', 'vó', 'vô', 'vacinados', '😭😭🤧🤧', '133', 'pedir', 'desculpas', 'agr', 'q', 'participa', 'sorteios', 'seguidores', 'insta', 'lutem', '134', 'chique', 'bebe', 'café', '135', 'personagem', 'camila', 'so', 'existe', 'sofre', 'caralho', 'abandonada', 'beira', 'estrada', 'morre', 'tomo', 'tiro', 'ficou', 'grávida', 'perdeu', 'bb', 'útero', 'agr', 'nessa', 'altura', 'campeanoto', 'atropelada', 'fica', 'cadeira', 'roda', 'q', 'professora', 'né', 'coitada', '136', 'infelizmente', 'ruim', 'tãoooooo', 'ruim', 'sapatonice', 'compensa', '137', 'mds', 'fiquei', 'vê', 'novela', 'telma', 'matou', 'metade', 'elenco', '138', '@bymypsa', 'voto', '139', 'triste', 'caralho', 'juliette', 'olhou', 'gil', 'disse', 'q', 'parar', '\"bixa', 'escandalosa\"', 'q', 'generoso', '140', 'jorge', 'exatamente', 'assim', 'inclusive', 'mãe', 'manda', 'vim', 'embora', 'rianápolis', 'argumentos', '\"pra', 'embora', 'irmã', 'brinca', 'comigo\"', '141', 'mds', 'filme', 'brasileiro', 'vampiras', 'sáficas', 'roça', 'entendi', 'porém', 'belíssimo', 'obrigada', 'sapatão', 'drive', 'serviços', 'pirataria', 'prestados', '142', 'filmes', 'brasileiros', 'cult', 'diálogos', 'lentos?????', '143', 'mds', 'filme', 'horrível', 'última', 'vez', 'q', 'vi', 'filme', 'indicação', 'tik', 'tok', '144', '🗣🗣🗣', '145', 'gil', 'único', 'participante', 'q', 'alegria', 'assistir', '146', 'festa', 'aniversário', 'online', 'gostei', '147', '@bymypsa', '@killingevebr', '@murilx', 'temporada', 'final', '?????', 'https://t.co/phegwsrsq0', '148', 'reciclar', 'parabéns', '@brucegothm', '149', 'merda', 'tava', 'preparando', 'filme', 'oscar', 'quero', 'ammonite', 'novo', '150', 'gay', 'quase', 'infarta', 'após', 'leitura', 'mal', 'feita', 'achando', 'ammonite', 'indicados', 'oscar,', 'entenda', ':', '151', 'sabe', 'ceres', 'tbm', 'tá', 'decreto', '14', 'dias', '????', '152', 'geografia', 'diferença', 'jacaré', 'crocodilo', '153', 'ri', 'mão', 'consciência', '154', 'claro', 'q', 'álvaro', 'babaca', 'usar', 'máscara', 'transparente', 'plástico', 'achando', 'q', 'resolve', 'alguma', '155', 'sandro', 'ficou', 'betina', '???', 'mds', 'q', 'rolou', '156', 'favor', 'nao', 'comigo', 'proxima', 'hora', '157', 'tá', 'errado', '????', '158', 'cabelo', 'finalmente', 'chegou', 'fase', 'entretanto', 'so', 'fico', 'casa', '159', '@amyexemplr', '@bymypsa', '160', '@larotass', 'quais', 'livros', 'conseguiu', '?', 'fiquei', 'desesperada', 'q', 'peguei', 'q', 'lido', 'pdf', 'kfhfjfjfjkkkk', '161', 'agr', 'tô', 'acreditando', 'consegui', 'participar', 'comemorar', 'chegar', 'casa', 'alegria', 'pobre', 'dura', 'pouco', '162', '@coachdpapainoel', 'sendo', 'contra', 'legalização', 'traficante', 'tá', 'tranquilo', '163', '@blacklivros', '@imlostsince99', '164', 'q', 'dias', 'glória', 'finalmente', 'chegaram??????', '165', 'encabulada', 'q', 'jorge', 'sentado', 'lugar', 'hora', 'meia', 'fazendo', 'tarefa', 'brigar', 'nenhuma', 'vez', 'q', 'tava', 'tablet', 'escondido', 'algum', 'lugar', 'realmente', 'tá', 'estudando', '166', 'proibido', 'defender', 'juliette', 'perto', 'mim,', 'sujeito', 'paulada', '167', 'incesto.', '168', 'teorizando', 'estadunidense', 'bota', 'merda', 'menta', 'chocolate', 'higiene', 'bucal', 'péssima', 'logo', 'associam', 'pasta', 'dente', 'pouco', 'xenofobica', 'talvez', 'sentido', '169', 'boulos', 'lula', 'mds', 'falsificaria', '10', 'títulos', 'votar', 'nessa', 'chapa', 'favor', 'deixem', 'sonhar', '170', 'siderúrgica', 'atemporal', '171', 'ai', 'ai', 'amo', 'ex', '172', 'relógio', 'tãooooo', 'bonitinho', 'q', 'compro', 'relógio', 'olha', 'horas', '??????ele', 'risquinho', 'lugar', 'número', '173', '@jlorraness', 'comprei', 'caneta', '10', 'cores', 'demorou', '2', 'meses', 'chega', 'fkhfdkddkkkk', '174', 'nova', 'atividade', 'procrastinação', 'consiste', 'ouvir', 'podcasts', 'enquanto', 'vejo', 'monte', 'tralha', 'completamente', 'desnecessária', 'shopee', 'q', 'nunca', 'comprarei', '175', 'sapatona', 'agiota', 'chegaram', '176', 'q', 'comoção', 'tt', 'tava', 'grande', 'esquerdista', 'tik', 'tok', 'nível', 'mds', 'amo', '177', '@acecilia__', 'amiga???????????', 'forças', 'viu', '178', 'caio', 'is', 'the', 'new', 'ivy', '???', '179', 'feijão', 'entendo', 'envolve', 'panela', 'pressão', 'arroz', 'mano', 'ah', 'licença', '180', 'entra', 'cabeça', 'q', 'exista', 'brasileiro', 'igual', 'projota', '34', 'anos', 'costas', 'filho', 'sabe', 'arroz', 'vei', 'pelamor', 'deus', 'vergonha', '181', 'vamos', 'lágrimas', '182', 'mds', 'voltou', 'passar', 'amor', 'mãe', '???????', '183', '@chickenlmjergi', 'kkkhjhjkkkkk', '184', '\"posso', 'mandar\"', 'kkkkkdkfhdjdkkkkk', '185', 'engraçado', 'vdd', 'antônio', '186', 'festa', 'fiuk', 'líder', '187', 'sequestraram', 'cachorro', 'lady', 'gaga', 'vei', 'ponto', 'chegamos', '188', '@sylviaplarth', '@karinepla', 'corre', '189', 'preguiça', 'faculdade', 'q', 'q', 'envia', 'documento', 'passado', '190', 'enfim,', 'prioridade', 'seletiva', '191', '@aaaaaalexandre', '🙏🙏🙏', '192', 'tô', 'fica', 'doida', 'irmão', 'aula', 'vivo', 'computador', 'mãe', 'reunião', 'nenhum', 'sabe', 'mexer', 'q', 'arrumar', 'abaixada', 'aparecer', 'câmera', '193', '@acecilia__', 'anda', '?', '194', 'sedenta', 'comentário', 'filme', 'big', 'brother', 'italiano', 'mds', 'bbb', 'proporciona', 'boilage', 'tbm', 'nunca', 'pedi', '195', 'humanos', 'animais', 'q', 'precisassem', 'dormir', '7', 'horas', 'seguidas', 'ficar', 'umas', '16', 'hrs', 'acordado', 'serase', 'ia', 'dividir', 'tempo', 'dias', 'baseado', 'sol/lua', '196', 'gay', 'trambiqueira', 'q', 'rouba', 'idoso', 'coração', '197', 'felicidade', 'estudante', 'pobre', 'curta', 'né', 'comemorar', '198', 'burrice', 'pai', '199', 'toda', 'temporada', 'greys', 'anatomy', 'penso', 'q', 'richard', 'bater', 'botas', 'toda', 'temporada', 'sai', 'vivo', 'q', 'nunca', 'vei', 'homi', 'q', 'ia', 'aposenta', 'primeira', 'temporada', 'tá', 'firme', 'q', 'personagem', 'principal', '200', 'desde', '2013', 'assistindo', 'greys', 'anatomy', 'única', 'temporada', 'morri', 'chorar', '201', 'sabia', 'q', 'karev', 'ia', 'embora', 'sabia', 'embora', 'sabia', 'q', 'episódio', '????', 'assim', 'chorei', 'igual', 'desgraçada', 'mds', 'amo', 'série', '202', '@karinepla', '@coachdpapainoel', 'intervida', 'q', 'uns', '12', 'tbm', 'imec', 'covid,', 'q', 'uns', '8', 'leitos,', 'boatos', 'q', 'fazendo', 'ortopédico', 'q', 'custar', '3k', 'dinheiro', 'internação', 'rolar', 'sus', '203', 'registrar', 'tbm', 'jinora', 'perfeita', 'sapatão', 'twitter', 'engaram', 'q', 'korra', 'asami', 'casal', 'vdd', 'delírio', 'coletivo', 'fanfic', '204', 'devia', 'visto', 'entretando', 'triste', 'q', 'sokka', 'citado', 'q', 'tá', 'morto', '?????', 'igualitário', 'tavam', 'certo', 'criador', 'série', 'caga', 'dobrador', '205', 'jeito', 'sobrevivência', 'pobre', 'gambiarra', '206', 'mulher', 'chora', 'felicidade', 'após', 'finalmente', 'impressora', 'funcionar', 'entenda', '207', 'mané', 'pai', 'q', 'viih', 'tube', 'fique', 'calada', '208', '98%', 'q', 'enfim', 'refrescos', '209', 'gil', 'nunca', 'erra', 'errar', 'passo', 'pano', '210', '@acecilia__', 'q', 'rolou', 'kjkkkk', '211', '@acecilia__', 'governo', '212', 'moral', 'rica', 'tacado', 'impressora', 'parede', 'aguento', '213', 'inferno', 'aguento', 'caralho', 'levo', 'porcaria', 'arrumar', 'acha', 'q', 'burra', 'doida', 'diz', 'carregar', 'cartucho', 'ninguem', 'entende', 'q', 'caralho', 'cartucho', 'fica', 'dando', 'nivel', 'baixo', 'tanto', 'cheio', 'imprime', 'porra', 'nenhum', 'nesse', 'cu', 'porra', 'ta', 'cheia', '214', 'mulher', 'surta', 'ódio', 'após', 'brigar', 'impressora', '215', '@cesaraustocesar', '@brucegothm', '216', '@imlostsince99', '@jxmillys', 'vacina', 'eficiente', 'feita', 'alho', 'boldo', 'acabei', 'whatsapp', '217', 'finalmente', 'tweet', 'suprimir', 'https://t.co/zn6tnjlvcl', '218', '@aaaaaalexandre', '@raffaellcunha', '@dandankarai', 'spoiler', 'fresca', 'quero', 'saber', 'q', 'tô', 'vendo', '219', '@aaaaaalexandre', 'personagens', 'q', 'gosto', 'vão', 'estar', 'mortos', 'velhinhos', '220', 'q', 'finalmente', 'to', 'preparada', 'assistir', 'lenda', 'korra', '221', 'ganhei', 'mini', 'forninho', 'mini', 'ralador', '😢🤧💕💕', '222', '@acecilia__', 'ícone', 'injustiçado', '223', 'ai', 'tadinho', 'lucas', 'vei', '224', 'queria', 'entender', 'q', 'rolou', 'algoritmo', 'tik', 'tok', 'q', 'vídeo', 'desgraça', 'tristeza', 'chorar', 'mds', 'manipulada', 'paz', '225', '@acecilia__', 'quais', '???', '226', '@acecilia__', 'processava', 'mundo', 'comprava', 'casa', 'mãe', 'dinheiro', 'indenização', '227', '@acecilia__', 'amiga', 'pior', 'q', 'pediu', 'sair', 'ganha', 'dinheiro', 'q', 'ganham', 'participar', '228', 'retirem', 'carteirinha', 'lgbt', 'lumena', 'aguento', '229', 'menino', 'so', 'queria', 'comprar', 'casa', 'mae', 'odioooooooo', '230', 'acorde', 'cris', 'dias', 'pois', 'tô', 'entendendo', 'q', 'rolou', '231', 'aaaaaaaaaaaaaaaaa', '232', 'mds', 'amo', 'mulher', '233', 'brittany', 'broski', 'única', 'capaz', 'mijar', 'rir', 'apenas', 'respirando', '234', 'juliette', 'ido', 'pro', 'paredão', 'choraria', '235', '@belrodrigues', '@brucegothm', '236', 'q', 'envelhecer', 'eterno', 'dormir', 'ok', 'acordar', 'toda', 'dolorida', '237', 'caminhão', 'atropelou', 'enquanto', 'dormia', '238', 'porém', 'continuarei', 'pensando', 'q', 'apenas', 'low', 'profile', 'discretissima', 'pois', 'preguiça', 'ficar', 'explanado', 'vida', 'pros', '239', 'mds', 'menina', 'disse', 'q', 'gay', 'sigilosa', 'fiquei', '?¿?não!??¿¿??', 'defender', 'descobri', 'q', '240', 'lucas', 'q', 'come', 'enquanto', 'volta', 'pro', 'vip', 'q', 'líder', '241', 'juliette', 'mãe', 'bel', 'meninas', '242', '@brucegothm', 'nada,', 'facim,', 'quiser', 'ensino', 'joga', 'umas', 'partida', 'tranquila', 'aprendendo', '243', '@brucegothm', 'disposição', 'xadrez', 'online', 'uns', 'jogos', '244', 'tô', 'acreditando', 'q', 'tá', 'adiando', 'mudança', 'semana', 'q', 'certo', 'mudar', 'ta', 'chovendo', '245', '@dudagsxx', '@brucegothm', '246', 'conhece', 'fiz', 'técnico', 'informática', 'exatamente', 'assim', '247', '@acecilia__', 'otário', 'dó', 'novamente', 'glr', 'tá', 'pegando', 'pesado', '248', 'vei', 'pelamor', 'deus', '249', 'iluminador', 'nariz', 'bonito', 'demais', '250', 'paredão', 'kerlane', 'sarah', 'rodolfo', 'alem', 'bolsominion', 'vi', 'outra', 'figurante', 'momento', 'engraçado', 'caio,', 'conclusão', 'podia', 'sair', 'três', '251', 'primeira', 'semana', 'bbb', 'eis', 'considerações', 'gilberto', 'camila', 'carla:', 'maravilhosos', 'karol', 'fiuk:', 'insuportáveis', 'caio', 'lucas:', 'engraçados', 'porém', 'chatos', 'viih:', 'tube', 'resto', 'q', '252', 'rejuntei', 'cozinha', 'posso', 'colocar', 'currículo', 'q', 'servente', '253', 'ja', 'paciência', 'bêbado', '254', '@aaaaaalexandre', 'usar', 'cada', 'boca', 'fogão', 'q', 'deus', 'quiser', '255', 'avó', 'entender', 'q', 'precisa', '6', 'panelas', 'pressão', 'tamanho', 'casa', 'nova', 'terço', 'armário', 'casa', 'antiga', 'q', 'querendo', 'q', 'desfazer', 'algumas', 'coisas', 'google', 'pesquisar', '256', 'peojata', 'boninho', 'disfarçado', 'nunca', 'vi', 'lugar', '257', '@acecilia__', 'retiro', 'toda', 'dó', 'expressei', 'tweet', 'anterior', 'mt', 'otário', '258', '@gabesimas', '@acecilia__', '259', '@wingliston', '@gabesimas', '@acecilia__', '260', '@acecilia__', '@juniorlucas672', '@brunogagliasso', 'kkkkklll', 'tweet', 'bruno?', 'deu', 'semana', 'povo', 'tá', 'odiando', '261', 'fiuk', 'encoste', 'dedo', 'ishala', 'tava', 'chorando', 'causa', 'deu', 'otário', '262', 'carol', 'konka', 'perdeu', 'argumento', 'disse', 'q', 'sulista', 'parei', 'ate', 'ouvi', '263', 'mds', 'fuik', 'insuportável', 'vei', 'fresco', '264', 'obcecada', 'passava', '80%', 'tempo', 'matando', 'muriçoca', 'outros', '20%', 'esperando', 'raquete', 'carregar', 'matar', 'muriçoca', '265', '@acecilia__', 'ai', 'amiga', 'fiquei', 'dó', 'kkgkgkk', '266', 'mds', 'fiz', 'xixi', 'nenhuma', 'vez', 'caralho', '267', 'alienada', 'bbb', 'estressei', 'cagada', 'inep', '268', '@acecilia__', 'amo', '269', 'pelamor', 'deus', 'vei', 'fiuk', 'chora', '270', 'escutando', 'podcast', 'amizade', 'gregorio', 'duvivier', 'q', 'tô', 'aula', 'psicanálise', 'lacan', '271', 'caio', 'fã', 'número', '1', 'rodolfo', 'né', 'comeque', 'obcecado', '272', 'arcrebiano', 'disse', 'q', 'coach', 'crossfit', '????¿¿¿', '273', '@trizetc', '@brucegothm', '274', '@professordum', '@brucegothm', '275', 'timeline', 'tá', 'entupida', 'vídeos', 'bbb', 'seguindo', 'pessoas', 'erradas', '276', 'duplinha', 'q', 'passeirei', 'pano', 'ishala', '277', 'esperteza', 'colocar', 'água', 'quente', 'jarra', 'vidro', 'cima', 'balcão', 'pedra', 'achar', 'q', 'ia', 'dar', 'certo,', 'identifiquei', '278', 'contando', 'ovo', 'cu', 'galinha', 'certeza', 'q', 'galinha', 'sequer', 'existe', '279', 'tomara', 'q', 'mentira', 'q', 'absolutamente', 'ninguém', 'pedindo', '280', '@brucegothm', 'q', 'master', 'chefe', '281', 'q', 'dormiria', 'umas', '8,', '9', 'cabeça', 'perturbando', 'seis', 'meia', 'fritando', 'condições', 'vei', 'acordo', 'ódio', '282', '@coachdpapainoel', '@aaaaaalexandre', 'tá', 'ligado', 'q', 'prefeito', 'cidade', 'alexandre', 'padre', 'né', '283', 'irmão', 'q', 'agr', 'whatsapp', 'aplicativo', 'fica', 'celular', 'motivos', '✨monitoramento✨', 'pensa', 'numas', 'conversa', 'doida', 'pé', 'cabeça', 'amigo', 'tô', 'rachando', 'bico', '284', 'vitinho', '11', 'anos', ':', '285', '@brucegothm', 'tomara', 'q', 'traga', 'vergonha', 'pro', 'estado', 'igual', 'q', 'expulsa', 'bbb19', 'amiga', 'advogada', 'racista', '286', 'agr', 'q', 'surtei', 'vamos', 'q', 'importa,', 'cade', 'lista', 'participantes', 'bbb', '??', '287', 'meia', 'hora', 'fecha', 'prouni', 'troquei', 'curso', 'q', 'quero', 'arrependi', 'seguinte', 'agr', 'passei', 'faculdade', 'mandou', 'trocentos', 'email', 'q', 'vi', 'marcou', 'horário', 'amanhã', '8:50', 'manhã', 'df', 'entregar', 'documentos', 'q', 'arrumei', 'trem', 'q', 'quero', '288', 'caiado', 'metendo', 'agulhada', 'povo', 'enfim', 'refrescos', '289', 'brasil', 'muitas', 'tristezas', 'umas', 'coisas', 'única', 'mc', 'fioti', 'garoto', 'propaganda', 'vacina', 'butantan', 'q', 'felicidade', '290', 'questão', 'história', 'q', 'história', 'guerra', 'mundial,', 'vargas', 'nazismo', 'república', 'velha', 'gerra', 'fria', 'ditadura', 'período', 'colonial', 'falava', 'q', 'questão', 'história', '291', '@sabedoriabixo', '@terrinhax', 'gênio', '292', 'q', 'enfim', 'governo', 'estadunidense', 'dará', 'pouco', 'felicidade', 'pro', 'mundo', '293', '@prazertom', '@myrellepereira', 'vó', 'ai', '294', '@acecilia__', 'amiga,minha', 'madrinha', 'exame', 'acaso', 'ia', 'cirurgia', 'hospital', 'terça', 'deu', 'positivo,', 'jorge', 'tava', 'casa', 'fim', 'semana', 'mundo', 'tá', 'sintoma', 'mãe', 'tá', 'achando', 'q', 'intoxicação', 'alimentar', '295', 'q', 'inseto', 'q', 'vive', 'frio/neve', '296', 'surto', 'procrastinação', 'mudei', 'móveis', 'quarto', 'q', 'ficou', 'q', 'cabeça', 'mentindo', 'tempo', 'q', 'gastei', 'nisso', 'devia', 'tá', 'fazendo', 'coisas', 'realmente', 'importantes', '297', 'mateus', 'fofinho', 'bel:', 'tolete', 'coco', '298', 'vê', 'gosto', 'foto', 'tbm', 'q', 'juntou', 'cachorro', 'lambendo', 'bunda', 'https://t.co/pd1lwteggb', '299', 'amo', 'ifzinho', 'aprendi', 'tanta', 'nessa', 'ocupação', 'https://t.co/u0wawavq4i', '300', 'humilhação', 'maior', 'perder', 'batalha', 'impressora', '301', '@acecilia__', 'mds', 'q', 'rolou', '??', '302', 'caramba', 'vacina', 'tá', 'né', 'porcaria', 'governo', 'q', 'podia', 'adiar', 'enem', 'pro', 'próximo', 'mês', '303', '@karinepla', 'mulhe', 'cuidado', 'salmonella', '304', 'pau', 'torando', 'estados', 'unidos', '305', 'toda', 'hora', 'trovejando', 'vê', 'maravilhosa', 'gigabyte', 'cair', 'agorinha', 'assim', 'q', 'acabar', 'horário', 'comercial', 'poder', 'ligar', 'reclamar', '306', 'vi', 'muita', 'triste', 'nessa', 'pandemia', 'rolê', 'cães', 'guias', 'precisando', 'aposentar', 'cedo', 'donos', 'cumprindo', 'quarentena', 'desde', 'início', 'cachorros', 'esquecendo', 'cães', 'guias', 'realmente', 'lacrimejou', 'olho', '307', 'sonsa', 'dona', 'netflix', 'deu', 'final', 'descente', 'pro', 'salem', 'feio', 'q', 'passar', 'resto', 'vida', 'discutindo', 'morreu', 'fazendo', 'meme', '308', 'comprei', 'xuxinha', 'daquelas', 'anos', '80', 'agr', 'to', 'parecendo', 'cachorro', 'madame', '309', '@gay_0000000000', '@brucegothm', '@liinewhite', '@karinepla', '@aaaaaalexandre', '@coachdpapainoel', '@acecilia__', '@discord', 'grupo', '310', 'absolutamente', 'cérebro:', '\"natasha', 'bonassera', 'natasha\"', '\"bonassera', 'katuxa\"', '311', 'único', 'objetivo', 'assistir', 'filmes', 'sapatão', 'drive', 'eh', '312', 'obs:', 'vale', 'vento', 'horrível,', 'gosta', 'irritar', 'inácio', '313', 'todas', 'categorias', 'completas', 'vencedores', '//os', 'cinéfilos', 'https://t.co/8vifqc8v2s', '314', 'veio', 'galera', 'oscar', 'travazap', '2020', '@brucegothm', '@liinewhite', '@karinepla', '@aaaaaalexandre', '@coachdpapainoel', '@acecilia__', '@discord', 'https://t.co/tqgq41sgdh', '315', 'ok', 'q', 'queimou', 'parte', 'cima', 'talvez', 'dê', 'salvar', '316', 'fiz', 'bolinho', 'cenoura', 'levar', 'vó', 'amanhã,', 'botei', 'forno,', 'arrumei', 'cozinha,', 'apaguei', 'luz', 'esqueci', 'bolo', 'agr', 'casa', 'tá', 'cherando', 'fumaça', 'tô', 'pneu', 'dentro', 'forma', '317', 'olhando', 'front', 'lace', 'internet', 'dar', 'presente', 'mães', 'deprimente', 'viu', '318', 'caralhoooooooo', 'série', 'obra', 'arte', 'discordar', 'discorde', 'casa', '319', 'vamo', 'sair', 'pandemia', 'cedo', 'melhor', 'merda', 'logo', 'der', 'ruim', 'tô', 'saindo', 'casa', 'ninguém', 'né', '320', 'them', 'mds', '???????', '321', 'dormi', 'noite', 'q', '322', 'eventos', 'família', 'real', 'assistir', 'tanta', 'confirma', 'famosos', '\"boatos\"', 'fato', 'anne', 'preferida', 'philip', 'charles', 'rancor', 'fica', 'nítido', 'expressões', 'durante', 'funeral', 'q', 'percebem', '323', '@gillespiegoth', 'oi,', 'passar', 'pdf', 'favor??', 'única', 'versão', 'q', 'consegui', 'tá', 'toda', 'zuada', '324', 'procurar', 'cadeira', 'pendura', 'teto', 'crochê', 'material', 'rede', 'escrevi', '\"balanço', 'adulto\"', 'apareceu', 'monte', 'erótica', 'foto', 'pornográfica', 'mds', 'q', 'errei', '325', 'ai', 'nervoso', 'toda', 'hr', 'achando', 'q', 'iam', 'afogar', '?????', '326', '@coachdpapainoel', 'q', 'mg', 'estado', 'q', 'facul', 'pública', '327', 'pequena', 'lo', 'pequena', 'conte', 'comigo', '328', 'tentar', 'começar', 'ler', 'vida', 'pequena', 'deus', 'abençoa', '329', 'novamente', 'viih', 'tubos', 'chegou', 'aonde', 'chegou', '20', 'anos', 'sendo', 'sonsa', 'galera', '330', 'goiano', 'milho', 'caso', 'amor', '331', 'vei', 'história', 'bizarra', 'tava', 'covid', 'galera', 'amputou', 'braço', '?????????', '332', 'aff', 'vei', 'fofo', '333', 'aniversário', 'julho', '334', '10', 'meia', 'noite', 'q', 'aceitar', 'sisu', 'tá', 'funcionar', '3', 'hrs', 'q', 'rolar', 'trocar', 'nota', '335', 'soubesse', 'little', 'fires', 'everywhere', 'assim', 'assistido', 'caramba', 'tanta', 'além', 'coisas', 'explicar', 'complexidade', 'mds', 'genial', '336', 'conclusões', 'demorou', 'secar', 'tá', 'cheio', 'friz', 'completamente', 'embaraçado', 'tempo', 'ficou', 'solto', 'secar', '337', 'lavei', 'cabelo', 'deixei', 'secar', 'qualquer', 'finalizador.....que', 'experiência', 'vei', '338', 'pessoal', 'soubesse', 'tanto', 'proteína', 'feijão', 'sentiria', 'vergonha', 'perguntar', '339', '@karinepla', 'cpf', 'colocar', 'serasa....', '340', '@bymypsa', 'enfim', 'conseguiu', 'agradar', '341', 'disse', 'q', 'arrumar', 'terça', 'feira', '??????', 'domingo', 'deus', '342', 'toda', 'vez', 'vejo', 'foto', 'barraca', 'beira', 'água', 'cachoeira', 'consigo', 'pensar', 'mds', 'vier', 'tromba', \"d'água\", 'noite', 'levar', 'povo', 'embora', '343', 'arrumar', 'porra', 'site', 'nao', 'querem', 'ne', 'sonso', '344', 'adianta', 'algum', 'inferno', 'prorrogar', 'sisu', '5', 'dias', 'arruma', 'bug', 'dupla', 'classificação', 'caralho', 'heim', 'adianta', '??????????', 'deus', 'odeio', 'inferno', 'governo', 'burro', '345', 'mds', 'odeio', 'governo', 'inferno', '346', 'perco', 'hora', 'q', 'telma', 'joga', 'chinelo', 'mulher', '347', 'verídico', '348', 'vontade', 'assistir', 'nova', 'onda', 'imperador', '349', 'murilo', 'benício', 'tais', 'araújo.....', '350', '@karinepla', 'estiloso', 'voto', '351', 'moro', 'nessa', 'cidade', 'desde', 'existo', 'mínima', 'noção', 'compra', 'certas', 'coisas', 'miçangas', '352', 'sapatão', 'bandida', 'peruca', 'fugindo', 'polícia', 'kkkkkkkkk', 'amo', 'novela', 'deus', '353', '@jxmillys', 'parabénsssss', '354', 'comprei', 'kit', 'pintura', 'china', 'shopee', 'ninguém', 'segura', '355', '@bymypsa', 'rolê', 'divertido', 'auto', 'astral', '356', 'sabiaaaaaa', 'primeira', 'pensei', 'rouba', 'criança', 'sumir', 'mundo', '357', 'certo', 'consegui', 'youtube', 'chorei', 'soluçar', 'obrigada', 'manoela', 'dias', 'refrescos', '358', 'nao', 'to', 'acreditando', 'perdi', 'novela', 'causa', 'horario', 'jogo', 'aaaaaaaa', 'inferno', 'país', 'futebol', 'to', 'desde', 'março', 'passado', 'esperando', 'lurdes', 'encontrar', 'domenico', 'q', 'finalmente', 'passa', 'momento', 'assisti', 'deus', 'globo', 'ódio', '359', '@de_sanduiche', 'kgjfkgjgkk', 'facada', 'costas', 'amigo', 'amei', '360', 'q', 'caio', '44%', '????', 'quase', 'q', 'saiu', 'vei', 'comassim', '361', 'enfim', 'homi', 'saiu', '362', 'emmy', 'adriana', 'esteves', 'pelamor', 'deus', '363', 'chorei', 'desidratei', '364', 'caralho', 'dona', 'lurdes', 'quebra', 'pedaço', 'telha', 'veio', '????', 'pelamor', 'deus', 'mulhe', 'reage', '365', 'sapatão', 'bandida', 'princípios,', 'amo', '366', 'amor', 'mãe', 'virar', 'morte', 'mãe', 'agorinha', 'jeito', 'q', 'novela', 'tá', 'indo', '367', '@brucegothm', 'usou', 'vacina', 'causa', 'autismo', '?', 'kkkkkkkkkk', '368', 'aneim', 'preguiça', '369', 'caraí', 'quase', '6', 'hora', 'q', 'tô', 'fazendo', 'deus', '370', 'madrugada', 'xingando', 'site', 'governo,', 'novo', '371', 'ala', '2', 'hrs', 'site', 'sisu', 'caiu', '372', 'artur', 'pocah', 'chorando', 'juntos', 'kkkkkkkkk', 'condições', '373', 'mds', 'camila', 'muita', 'paciência', 'viu....', '374', 'joão', 'jantou', 'camila', 'enterrou', '375', 'troci', 'pro', 'fiuk', 'levar', 'soco', 'pro', 'bananão', 'expulso', 'mão', 'consciência', '376', 'cu', 'trancado', 'forte', 'q', 'ficar', 'cagar', 'resto', 'programa', 'agr', '377', 'mds', 'rodolfo', 'insuportável', 'cala', 'boca', '378', 'silêncio', 'joão', 'dar', 'aula', '379', 'dei', 'berro', 'pensei', 'queria', 'dizer', '\"picah\"', 'kkkkkkkfjgkk', '380', 'gil', 'amo', 'kfjfjfjfkkkkkkk', '381', 'telma', 'virou', 'carminha', 'todinha', 'comeque', 'adriana', 'esteves', '????', '382', 'mano', '**', '****', '***', 'bruno', 'mars', 'tranquilo', '383', '@coachdpapainoel', '@karinepla', 'bolsonaro', 'disse', 'mesma', '384', 'q', 'mora', 'interior', 'goiás', 'momento', 'felicidade', 'frete', 'né', '385', 'comparação', 'tão?????', 'quero', 'fã', 'bbb', 'continuar', 'dando', 'engajamento', 'q', 'reality', 'acabar', 'fã', 'adolescente', 'viih', 'tubos', 'firme', 'forte', 'bbb', '16m', 'visualização', 'novela', 'ruim', 'yt', 'qualquer', '386', 'recebeu', 'print', 'recebeu,', 'resto', 'questionar', 'amizade', 'brincadeira', 'enjoei', '387', 'mds', 'ódio', 'botar', 'barba', '388', 'to', 'ai', 'amigos', 'picrew', 'pedir', 'permissão', '389', 'vídeo', 'menino', '18', 'anos', 'diferença', 'idade', 'irmã', '4', 'anos', 'pensei', 'coitado', 'lembrei', 'q', '21', 'anos', 'irmão', '8', 'meses', 'kdhdjdkdkk', 'rindo', 'nervoso', '390', 'medo', 'gil', 'sair', 'insuportáveis', '391', 'apresentador', 'sonso', 'nisso', 'né', '392', 'conta', 'tonto', 'tiago', 'ta', 'falando,', 'fim', 'juliette', 'so', 'caio', 'puxou', '??????', 'qualqer', 'q', 'ia', 'puxar', '393', 'entendo', 'povo', 'fica', 'chocado', 'viih', 'tube', 'ninguém', 'chega', 'aonde', 'chegou', '20', 'anos', 'sendo', 'sonsa', '394', 'gilberto', 'surtando', 'colocaram', 'foto', 'igreja', 'kkkkkkkkkkkk', 'amo', '395', 'finalmente', 'prazer', 'finalizar', 'leitura', 'goodreads', 'sendo', 'audio', 'book', '396', 'historia', 'livro', 'final', '??????????', '397', 'ai', 'ai', 'queria', 'filminho', 'assistir', '398', 'cachorro', 'velhinho', '😭🥰🥰', '399', 'telma', 'fica', 'inteiro', 'conversando', 'plano', 'foto', 'pandemia', 'q', 'mundo', 'ta', 'casa', 'ninguém', 'nunca', 'escuta', 'cara,', 'casa', 'grande', 'infernos', '???', '400', 'sonho', '401', 'tá', 'foda', 'viu', 'consigo', 'ficar', '5', 'minuto', 'concentrada', 'mesma', '402', 'melhor', 'parte', 'enfiando', 'livro', 'livro', 'bunda', 'achando', 'q', 'ninguém', 'percebeu', '403', 'dedicada', 'cabelo', 'ficado', 'ruiva', 'muuuito', 'tempo', '404', '@aaaaaalexandre', 'vcs', 'q', 'jesus', 'morreu', 'tbm,', 'culto', 'vão', '?', '405', 'evangélico', 'tbm', 'sexta', 'feira', 'santa???', '406', 'sabadou', 'dando', 'banho', 'jabuti', '407', 'caralho', 'compilado', 'lo', 'fi', 'tim', 'maia', 'youtube', 'deus', 'https://t.co/5xe7ybe3rt', '408', 'vei.', '409', 'babu', 'vendo', 'vídeo', 'daniel', 'enfiando', 'dedo', 'garrafa', 'mexer', 'café', '410', 'leila', 'insuportável', 'começo', 'novela', 'agr', 'beija', 'mulhe', 'tá', 'toda', 'boiolinha', 'amei', '411', 'acordar', 'rindo', 'sonho', 'engraçado', 'vei', 'flfjfjkkkkk', 'deus', 'abençoe', 'antialérgico', '412', 'impossivel', 'assistir', 'the', \"handmaid's\", 'tale', 'li', 'testamentos', 'pois', 'rezume', 'pura', 'agonia', 'esperança', '413', 'mds', 'dona', 'lurdes', 'momento', 'paz', 'nessa', 'novela', '414', 'q', 'pochete', 'q', 'comprei', 'semana', 'pandemia', 'tá', 'estilosa', 'pandemia', 'acaba', '415', 'golpe', 'caída', 'bolsonaro', '416', 'gilberto', 'pare', 'comprar', 'briga', 'causa', 'mulhe', 'implorando', '417', 'aaaaaaaa', 'ta', 'vivaaaaaaaa', '418', 'q', 'nunca', 'chorei', 'tanto', 'assim', 'assistindo', 'novela', 'mds', 'q', 'rolou', '419', 'mds', 'tao', 'fazendo', 'velório', 'online', '420', 'olhar', 'nota', 'tá', 'caos', 'imagina', 'sisu', '421', '3', 'mulher', 'levou', 'tiro', 'mato', 'aguento', '422', 'vdd', '@brucegothm', 'tamo', 'elenco', 'https://t.co/5uygvniney', '423', 'fazia', 'tempo', 'fracassava', 'assim', 'cozinha', 'tô', 'triste', '424', 'brasileiro', 'paz', 'né', '425', 'usando', 'forninho', 'mini', 'bolinho', 'tomara', 'q', 'preste', '426', 'assim', 'ideias', 'https://t.co/cpe4nors1b', '427', '3', 'hora', 'conseguir', 'filme', '3', 'pesquisando', 'entender', 'rolou', '428', 'caralho', 'sol', 'rosinha', 'lua', 'cheia', 'belíssimo', '429', 'pelamor', 'deus', 'lurdes', 'morreu', 'nao', 'carai', '??????', '430', '@terrinhax', 'perai', '431', '@terrinhax', 'olá', 'interesse', '432', '@coachdpapainoel', '433', 'povo', 'oficina', 'coloca', 'parafuso', 'roda', 'máquininha', 'consegui', 'simples', 'tarefa', 'troca', 'desgraça', 'pneu', '434', '@brucegothm', 'https://t.co/lmgtmbpuse', '435', 'aaaaaaaaaaaaa', 'ta', 'morrendo', '436', 'tocou', 'inês', 'brasil', 'festa', 'gil', '🗣🗣🗣🗣🗣', '437', '@jlorraness', 'linda', 'graduada', '👏👏👏👏', '438', 'nunca', 'tweet', 'representou', 'tanto', '439', 'ate', 'q', 'enfim', 'estudante', 'medicina', 'viralizando', 'alguma', 'certa', '440', 'globo', 'terminou', 'novela', 'cedo', 'passar', 'velozes', 'furiosos', 'aneim', 'vei', 'pelamor', 'deus', '441', 'ódio', 'to', 'vendo', 'alguma', 'personagem', 'câncer', 'povo', 'fica', 'reforçando', 'estereótipo', 'tratar', 'igual', 'morimbudo', 'cai', 'dura', 'morta', 'qualquer', 'momento', 'inferno', '442', 'q', 'altura', 'campeonato', 'lurdes', 'ia', 'tá', 'acabando', 'raça', 'telma', 'tá', 'calma', '???????', '443', 'creme', 'secou', 'cabelo', 'tudim', 'odiooooo', '444', 'hidratação', 'cabelo', 'botei', 'sacolinha', 'cabeça', 'vinte', 'minutos', 'q', 'passou', 'duas', 'hora', 'esqueci', 'q', 'q', 'exagua', 'cabelo', '445', 'meia', 'noite', 'reboco', 'completo', 'fica', 'casa', 'deu', 'vontade', 'brasil', 'q', 'comigo', '446', '@bymypsa', 'q', 'li', 'rápido', 'q', 'tava', 'sociologia', 'pensei', 'ue', 'morreu', 'tempo', '????', '447', 'ate', 'enfim', 'lurdes', 'achou', 'domenico', 'mds', 'alegria', 'https://t.co/a2wlaknoui', '448', 'preciso', 'parar', 'achar', 'q', 'tô', 'máscara', 'ninguém', 'reconhecer', 'sai', 'casa', 'igual', 'desgraçada', 'q', 'comprar', 'única', 'mercado', 'hr', 'q', 'tava', 'caixa', 'menino', 'q', 'fiz', 'fundamental', 'chamou', 'além', 'vergonha', 'perguntou', 'q', 'tava', 'estudando', '449', 'vó', 'vô', 'vacinados', '😭😭🤧🤧', '450', 'pedir', 'desculpas', 'agr', 'q', 'participa', 'sorteios', 'seguidores', 'insta', 'lutem', '451', 'chique', 'bebe', 'café', '452', 'personagem', 'camila', 'so', 'existe', 'sofre', 'caralho', 'abandonada', 'beira', 'estrada', 'morre', 'tomo', 'tiro', 'ficou', 'grávida', 'perdeu', 'bb', 'útero', 'agr', 'nessa', 'altura', 'campeanoto', 'atropelada', 'fica', 'cadeira', 'roda', 'q', 'professora', 'né', 'coitada', '453', 'infelizmente', 'ruim', 'tãoooooo', 'ruim', 'sapatonice', 'compensa', '454', 'mds', 'fiquei', 'vê', 'novela', 'telma', 'matou', 'metade', 'elenco', '455', '@bymypsa', 'voto', '456', 'triste', 'caralho', 'juliette', 'olhou', 'gil', 'disse', 'q', 'parar', '\"bixa', 'escandalosa\"', 'q', 'generoso', '457', 'jorge', 'exatamente', 'assim', 'inclusive', 'mãe', 'manda', 'vim', 'embora', 'rianápolis', 'argumentos', '\"pra', 'embora', 'irmã', 'brinca', 'comigo\"', '458', 'mds', 'filme', 'brasileiro', 'vampiras', 'sáficas', 'roça', 'entendi', 'porém', 'belíssimo', 'obrigada', 'sapatão', 'drive', 'serviços', 'pirataria', 'prestados', '459', 'filmes', 'brasileiros', 'cult', 'diálogos', 'lentos?????', '460', 'mds', 'filme', 'horrível', 'última', 'vez', 'q', 'vi', 'filme', 'indicação', 'tik', 'tok', '461', '🗣🗣🗣', '462', 'gil', 'único', 'participante', 'q', 'alegria', 'assistir', '463', 'festa', 'aniversário', 'online', 'gostei', '464', '@bymypsa', '@killingevebr', '@murilx', 'temporada', 'final', '?????', 'https://t.co/phegwsrsq0', '465', 'reciclar', 'parabéns', '@brucegothm', '466', 'merda', 'tava', 'preparando', 'filme', 'oscar', 'quero', 'ammonite', 'novo', '467', 'gay', 'quase', 'infarta', 'após', 'leitura', 'mal', 'feita', 'achando', 'ammonite', 'indicados', 'oscar,', 'entenda', ':', '468', 'sabe', 'ceres', 'tbm', 'tá', 'decreto', '14', 'dias', '????', '469', 'geografia', 'diferença', 'jacaré', 'crocodilo', '470', 'ri', 'mão', 'consciência', '471', 'claro', 'q', 'álvaro', 'babaca', 'usar', 'máscara', 'transparente', 'plástico', 'achando', 'q', 'resolve', 'alguma', '472', 'sandro', 'ficou', 'betina', '???', 'mds', 'q', 'rolou', '473', 'favor', 'nao', 'comigo', 'proxima', 'hora', '474', 'tá', 'errado', '????', '475', 'cabelo', 'finalmente', 'chegou', 'fase', 'entretanto', 'so', 'fico', 'casa', '476', '@amyexemplr', '@bymypsa', '477', '@larotass', 'quais', 'livros', 'conseguiu', '?', 'fiquei', 'desesperada', 'q', 'peguei', 'q', 'lido', 'pdf', 'kfhfjfjfjkkkk', '478', 'agr', 'tô', 'acreditando', 'consegui', 'participar', 'comemorar', 'chegar', 'casa', 'alegria', 'pobre', 'dura', 'pouco', '479', '@coachdpapainoel', 'sendo', 'contra', 'legalização', 'traficante', 'tá', 'tranquilo', '480', '@blacklivros', '@imlostsince99', '481', 'q', 'dias', 'glória', 'finalmente', 'chegaram??????', '482', 'encabulada', 'q', 'jorge', 'sentado', 'lugar', 'hora', 'meia', 'fazendo', 'tarefa', 'brigar', 'nenhuma', 'vez', 'q', 'tava', 'tablet', 'escondido', 'algum', 'lugar', 'realmente', 'tá', 'estudando', '483', 'proibido', 'defender', 'juliette', 'perto', 'mim,', 'sujeito', 'paulada', '484', 'incesto.', '485', 'teorizando', 'estadunidense', 'bota', 'merda', 'menta', 'chocolate', 'higiene', 'bucal', 'péssima', 'logo', 'associam', 'pasta', 'dente', 'pouco', 'xenofobica', 'talvez', 'sentido', '486', 'boulos', 'lula', 'mds', 'falsificaria', '10', 'títulos', 'votar', 'nessa', 'chapa', 'favor', 'deixem', 'sonhar', '487', 'siderúrgica', 'atemporal', '488', 'ai', 'ai', 'amo', 'ex', '489', 'relógio', 'tãooooo', 'bonitinho', 'q', 'compro', 'relógio', 'olha', 'horas', '??????ele', 'risquinho', 'lugar', 'número', '490', '@jlorraness', 'comprei', 'caneta', '10', 'cores', 'demorou', '2', 'meses', 'chega', 'fkhfdkddkkkk', '491', 'nova', 'atividade', 'procrastinação', 'consiste', 'ouvir', 'podcasts', 'enquanto', 'vejo', 'monte', 'tralha', 'completamente', 'desnecessária', 'shopee', 'q', 'nunca', 'comprarei', '492', 'sapatona', 'agiota', 'chegaram', '493', 'q', 'comoção', 'tt', 'tava', 'grande', 'esquerdista', 'tik', 'tok', 'nível', 'mds', 'amo', '494', '@acecilia__', 'amiga???????????', 'forças', 'viu', '495', 'caio', 'is', 'the', 'new', 'ivy', '???', '496', 'feijão', 'entendo', 'envolve', 'panela', 'pressão', 'arroz', 'mano', 'ah', 'licença', '497', 'entra', 'cabeça', 'q', 'exista', 'brasileiro', 'igual', 'projota', '34', 'anos', 'costas', 'filho', 'sabe', 'arroz', 'vei', 'pelamor', 'deus', 'vergonha', '498', 'vamos', 'lágrimas', '499', 'mds', 'voltou', 'passar', 'amor', 'mãe', '???????', '500', '@chickenlmjergi', 'kkkhjhjkkkkk', '501', '\"posso', 'mandar\"', 'kkkkkdkfhdjdkkkkk', '502', 'engraçado', 'vdd', 'antônio', '503', 'festa', 'fiuk', 'líder', '504', 'sequestraram', 'cachorro', 'lady', 'gaga', 'vei', 'ponto', 'chegamos', '505', '@sylviaplarth', '@karinepla', 'corre', '506', 'preguiça', 'faculdade', 'q', 'q', 'envia', 'documento', 'passado', '507', 'enfim,', 'prioridade', 'seletiva', '508', '@aaaaaalexandre', '🙏🙏🙏', '509', 'tô', 'fica', 'doida', 'irmão', 'aula', 'vivo', 'computador', 'mãe', 'reunião', 'nenhum', 'sabe', 'mexer', 'q', 'arrumar', 'abaixada', 'aparecer', 'câmera', '510', '@acecilia__', 'anda', '?', '511', 'sedenta', 'comentário', 'filme', 'big', 'brother', 'italiano', 'mds', 'bbb', 'proporciona', 'boilage', 'tbm', 'nunca', 'pedi', '512', 'humanos', 'animais', 'q', 'precisassem', 'dormir', '7', 'horas', 'seguidas', 'ficar', 'umas', '16', 'hrs', 'acordado', 'serase', 'ia', 'dividir', 'tempo', 'dias', 'baseado', 'sol/lua', '513', 'gay', 'trambiqueira', 'q', 'rouba', 'idoso', 'coração', '514', 'felicidade', 'estudante', 'pobre', 'curta', 'né', 'comemorar', '515', 'burrice', 'pai', '516', 'toda', 'temporada', 'greys', 'anatomy', 'penso', 'q', 'richard', 'bater', 'botas', 'toda', 'temporada', 'sai', 'vivo', 'q', 'nunca', 'vei', 'homi', 'q', 'ia', 'aposenta', 'primeira', 'temporada', 'tá', 'firme', 'q', 'personagem', 'principal', '517', 'desde', '2013', 'assistindo', 'greys', 'anatomy', 'única', 'temporada', 'morri', 'chorar', '518', 'sabia', 'q', 'karev', 'ia', 'embora', 'sabia', 'embora', 'sabia', 'q', 'episódio', '????', 'assim', 'chorei', 'igual', 'desgraçada', 'mds', 'amo', 'série', '519', '@karinepla', '@coachdpapainoel', 'intervida', 'q', 'uns', '12', 'tbm', 'imec', 'covid,', 'q', 'uns', '8', 'leitos,', 'boatos', 'q', 'fazendo', 'ortopédico', 'q', 'custar', '3k', 'dinheiro', 'internação', 'rolar', 'sus', '520', 'registrar', 'tbm', 'jinora', 'perfeita', 'sapatão', 'twitter', 'engaram', 'q', 'korra', 'asami', 'casal', 'vdd', 'delírio', 'coletivo', 'fanfic', '521', 'devia', 'visto', 'entretando', 'triste', 'q', 'sokka', 'citado', 'q', 'tá', 'morto', '?????', 'igualitário', 'tavam', 'certo', 'criador', 'série', 'caga', 'dobrador', '522', 'jeito', 'sobrevivência', 'pobre', 'gambiarra', '523', 'mulher', 'chora', 'felicidade', 'após', 'finalmente', 'impressora', 'funcionar', 'entenda', '524', 'mané', 'pai', 'q', 'viih', 'tube', 'fique', 'calada', '525', '98%', 'q', 'enfim', 'refrescos', '526', 'gil', 'nunca', 'erra', 'errar', 'passo', 'pano', '527', '@acecilia__', 'q', 'rolou', 'kjkkkk', '528', '@acecilia__', 'governo', '529', 'moral', 'rica', 'tacado', 'impressora', 'parede', 'aguento', '530', 'inferno', 'aguento', 'caralho', 'levo', 'porcaria', 'arrumar', 'acha', 'q', 'burra', 'doida', 'diz', 'carregar', 'cartucho', 'ninguem', 'entende', 'q', 'caralho', 'cartucho', 'fica', 'dando', 'nivel', 'baixo', 'tanto', 'cheio', 'imprime', 'porra', 'nenhum', 'nesse', 'cu', 'porra', 'ta', 'cheia', '531', 'mulher', 'surta', 'ódio', 'após', 'brigar', 'impressora', '532', '@cesaraustocesar', '@brucegothm', '533', '@imlostsince99', '@jxmillys', 'vacina', 'eficiente', 'feita', 'alho', 'boldo', 'acabei', 'whatsapp', '534', 'finalmente', 'tweet', 'suprimir', 'https://t.co/zn6tnjlvcl', '535', '@aaaaaalexandre', '@raffaellcunha', '@dandankarai', 'spoiler', 'fresca', 'quero', 'saber', 'q', 'tô', 'vendo', '536', '@aaaaaalexandre', 'personagens', 'q', 'gosto', 'vão', 'estar', 'mortos', 'velhinhos', '537', 'q', 'finalmente', 'to', 'preparada', 'assistir', 'lenda', 'korra', '538', 'ganhei', 'mini', 'forninho', 'mini', 'ralador', '😢🤧💕💕', '539', '@acecilia__', 'ícone', 'injustiçado', '540', 'ai', 'tadinho', 'lucas', 'vei', '541', 'queria', 'entender', 'q', 'rolou', 'algoritmo', 'tik', 'tok', 'q', 'vídeo', 'desgraça', 'tristeza', 'chorar', 'mds', 'manipulada', 'paz', '542', '@acecilia__', 'quais', '???', '543', '@acecilia__', 'processava', 'mundo', 'comprava', 'casa', 'mãe', 'dinheiro', 'indenização', '544', '@acecilia__', 'amiga', 'pior', 'q', 'pediu', 'sair', 'ganha', 'dinheiro', 'q', 'ganham', 'participar', '545', 'retirem', 'carteirinha', 'lgbt', 'lumena', 'aguento', '546', 'menino', 'so', 'queria', 'comprar', 'casa', 'mae', 'odioooooooo', '547', 'acorde', 'cris', 'dias', 'pois', 'tô', 'entendendo', 'q', 'rolou', '548', 'aaaaaaaaaaaaaaaaa', '549', 'mds', 'amo', 'mulher', '550', 'brittany', 'broski', 'única', 'capaz', 'mijar', 'rir', 'apenas', 'respirando', '551', 'juliette', 'ido', 'pro', 'paredão', 'choraria', '552', '@belrodrigues', '@brucegothm', '553', 'q', 'envelhecer', 'eterno', 'dormir', 'ok', 'acordar', 'toda', 'dolorida', '554', 'caminhão', 'atropelou', 'enquanto', 'dormia', '555', 'porém', 'continuarei', 'pensando', 'q', 'apenas', 'low', 'profile', 'discretissima', 'pois', 'preguiça', 'ficar', 'explanado', 'vida', 'pros', '556', 'mds', 'menina', 'disse', 'q', 'gay', 'sigilosa', 'fiquei', '?¿?não!??¿¿??', 'defender', 'descobri', 'q', '557', 'lucas', 'q', 'come', 'enquanto', 'volta', 'pro', 'vip', 'q', 'líder', '558', 'juliette', 'mãe', 'bel', 'meninas', '559', '@brucegothm', 'nada,', 'facim,', 'quiser', 'ensino', 'joga', 'umas', 'partida', 'tranquila', 'aprendendo', '560', '@brucegothm', 'disposição', 'xadrez', 'online', 'uns', 'jogos', '561', 'tô', 'acreditando', 'q', 'tá', 'adiando', 'mudança', 'semana', 'q', 'certo', 'mudar', 'ta', 'chovendo', '562', '@dudagsxx', '@brucegothm', '563', 'conhece', 'fiz', 'técnico', 'informática', 'exatamente', 'assim', '564', '@acecilia__', 'otário', 'dó', 'novamente', 'glr', 'tá', 'pegando', 'pesado', '565', 'vei', 'pelamor', 'deus', '566', 'iluminador', 'nariz', 'bonito', 'demais', '567', 'paredão', 'kerlane', 'sarah', 'rodolfo', 'alem', 'bolsominion', 'vi', 'outra', 'figurante', 'momento', 'engraçado', 'caio,', 'conclusão', 'podia', 'sair', 'três', '568', 'primeira', 'semana', 'bbb', 'eis', 'considerações', 'gilberto', 'camila', 'carla:', 'maravilhosos', 'karol', 'fiuk:', 'insuportáveis', 'caio', 'lucas:', 'engraçados', 'porém', 'chatos', 'viih:', 'tube', 'resto', 'q', '569', 'rejuntei', 'cozinha', 'posso', 'colocar', 'currículo', 'q', 'servente', '570', 'ja', 'paciência', 'bêbado', '571', '@aaaaaalexandre', 'usar', 'cada', 'boca', 'fogão', 'q', 'deus', 'quiser', '572', 'avó', 'entender', 'q', 'precisa', '6', 'panelas', 'pressão', 'tamanho', 'casa', 'nova', 'terço', 'armário', 'casa', 'antiga', 'q', 'querendo', 'q', 'desfazer', 'algumas', 'coisas', 'google', 'pesquisar', '573', 'peojata', 'boninho', 'disfarçado', 'nunca', 'vi', 'lugar', '574', '@acecilia__', 'retiro', 'toda', 'dó', 'expressei', 'tweet', 'anterior', 'mt', 'otário', '575', '@gabesimas', '@acecilia__', '576', '@wingliston', '@gabesimas', '@acecilia__', '577', '@acecilia__', '@juniorlucas672', '@brunogagliasso', 'kkkkklll', 'tweet', 'bruno?', 'deu', 'semana', 'povo', 'tá', 'odiando', '578', 'fiuk', 'encoste', 'dedo', 'ishala', 'tava', 'chorando', 'causa', 'deu', 'otário', '579', 'carol', 'konka', 'perdeu', 'argumento', 'disse', 'q', 'sulista', 'parei', 'ate', 'ouvi', '580', 'mds', 'fuik', 'insuportável', 'vei', 'fresco', '581', 'obcecada', 'passava', '80%', 'tempo', 'matando', 'muriçoca', 'outros', '20%', 'esperando', 'raquete', 'carregar', 'matar', 'muriçoca', '582', '@acecilia__', 'ai', 'amiga', 'fiquei', 'dó', 'kkgkgkk', '583', 'mds', 'fiz', 'xixi', 'nenhuma', 'vez', 'caralho', '584', 'alienada', 'bbb', 'estressei', 'cagada', 'inep', '585', '@acecilia__', 'amo', '586', 'pelamor', 'deus', 'vei', 'fiuk', 'chora', '587', 'escutando', 'podcast', 'amizade', 'gregorio', 'duvivier', 'q', 'tô', 'aula', 'psicanálise', 'lacan', '588', 'caio', 'fã', 'número', '1', 'rodolfo', 'né', 'comeque', 'obcecado', '589', 'arcrebiano', 'disse', 'q', 'coach', 'crossfit', '????¿¿¿', '590', '@trizetc', '@brucegothm', '591', '@professordum', '@brucegothm', '592', 'timeline', 'tá', 'entupida', 'vídeos', 'bbb', 'seguindo', 'pessoas', 'erradas', '593', 'duplinha', 'q', 'passeirei', 'pano', 'ishala', '594', 'esperteza', 'colocar', 'água', 'quente', 'jarra', 'vidro', 'cima', 'balcão', 'pedra', 'achar', 'q', 'ia', 'dar', 'certo,', 'identifiquei', '595', 'contando', 'ovo', 'cu', 'galinha', 'certeza', 'q', 'galinha', 'sequer', 'existe', '596', 'tomara', 'q', 'mentira', 'q', 'absolutamente', 'ninguém', 'pedindo', '597', '@brucegothm', 'q', 'master', 'chefe', '598', 'q', 'dormiria', 'umas', '8,', '9', 'cabeça', 'perturbando', 'seis', 'meia', 'fritando', 'condições', 'vei', 'acordo', 'ódio', '599', '@coachdpapainoel', '@aaaaaalexandre', 'tá', 'ligado', 'q', 'prefeito', 'cidade', 'alexandre', 'padre', 'né', '600', 'irmão', 'q', 'agr', 'whatsapp', 'aplicativo', 'fica', 'celular', 'motivos', '✨monitoramento✨', 'pensa', 'numas', 'conversa', 'doida', 'pé', 'cabeça', 'amigo', 'tô', 'rachando', 'bico', '601', 'vitinho', '11', 'anos', ':', '602', '@brucegothm', 'tomara', 'q', 'traga', 'vergonha', 'pro', 'estado', 'igual', 'q', 'expulsa', 'bbb19', 'amiga', 'advogada', 'racista', '603', 'agr', 'q', 'surtei', 'vamos', 'q', 'importa,', 'cade', 'lista', 'participantes', 'bbb', '??', '604', 'meia', 'hora', 'fecha', 'prouni', 'troquei', 'curso', 'q', 'quero', 'arrependi', 'seguinte', 'agr', 'passei', 'faculdade', 'mandou', 'trocentos', 'email', 'q', 'vi', 'marcou', 'horário', 'amanhã', '8:50', 'manhã', 'df', 'entregar', 'documentos', 'q', 'arrumei', 'trem', 'q', 'quero', '605', 'caiado', 'metendo', 'agulhada', 'povo', 'enfim', 'refrescos', '606', 'brasil', 'muitas', 'tristezas', 'umas', 'coisas', 'única', 'mc', 'fioti', 'garoto', 'propaganda', 'vacina', 'butantan', 'q', 'felicidade', '607', 'questão', 'história', 'q', 'história', 'guerra', 'mundial,', 'vargas', 'nazismo', 'república', 'velha', 'gerra', 'fria', 'ditadura', 'período', 'colonial', 'falava', 'q', 'questão', 'história', '608', '@sabedoriabixo', '@terrinhax', 'gênio', '609', 'q', 'enfim', 'governo', 'estadunidense', 'dará', 'pouco', 'felicidade', 'pro', 'mundo', '610', '@prazertom', '@myrellepereira', 'vó', 'ai', '611', '@acecilia__', 'amiga,minha', 'madrinha', 'exame', 'acaso', 'ia', 'cirurgia', 'hospital', 'terça', 'deu', 'positivo,', 'jorge', 'tava', 'casa', 'fim', 'semana', 'mundo', 'tá', 'sintoma', 'mãe', 'tá', 'achando', 'q', 'intoxicação', 'alimentar', '612', 'q', 'inseto', 'q', 'vive', 'frio/neve', '613', 'surto', 'procrastinação', 'mudei', 'móveis', 'quarto', 'q', 'ficou', 'q', 'cabeça', 'mentindo', 'tempo', 'q', 'gastei', 'nisso', 'devia', 'tá', 'fazendo', 'coisas', 'realmente', 'importantes', '614', 'mateus', 'fofinho', 'bel:', 'tolete', 'coco', '615', 'vê', 'gosto', 'foto', 'tbm', 'q', 'juntou', 'cachorro', 'lambendo', 'bunda', 'https://t.co/pd1lwteggb', '616', 'amo', 'ifzinho', 'aprendi', 'tanta', 'nessa', 'ocupação', 'https://t.co/u0wawavq4i', '617', 'humilhação', 'maior', 'perder', 'batalha', 'impressora', '618', '@acecilia__', 'mds', 'q', 'rolou', '??', '619', 'caramba', 'vacina', 'tá', 'né', 'porcaria', 'governo', 'q', 'podia', 'adiar', 'enem', 'pro', 'próximo', 'mês', '620', '@karinepla', 'mulhe', 'cuidado', 'salmonella', '621', 'pau', 'torando', 'estados', 'unidos', '622', 'toda', 'hora', 'trovejando', 'vê', 'maravilhosa', 'gigabyte', 'cair', 'agorinha', 'assim', 'q', 'acabar', 'horário', 'comercial', 'poder', 'ligar', 'reclamar', '623', 'vi', 'muita', 'triste', 'nessa', 'pandemia', 'rolê', 'cães', 'guias', 'precisando', 'aposentar', 'cedo', 'donos', 'cumprindo', 'quarentena', 'desde', 'início', 'cachorros', 'esquecendo', 'cães', 'guias', 'realmente', 'lacrimejou', 'olho', '624', 'sonsa', 'dona', 'netflix', 'deu', 'final', 'descente', 'pro', 'salem', 'feio', 'q', 'passar', 'resto', 'vida', 'discutindo', 'morreu', 'fazendo', 'meme', '625', 'comprei', 'xuxinha', 'daquelas', 'anos', '80', 'agr', 'to', 'parecendo', 'cachorro', 'madame', '626', '@gay_0000000000', '@brucegothm', '@liinewhite', '@karinepla', '@aaaaaalexandre', '@coachdpapainoel', '@acecilia__', '@discord', 'grupo', '627', 'absolutamente', 'cérebro:', '\"natasha', 'bonassera', 'natasha\"', '\"bonassera', 'katuxa\"', '628', 'único', 'objetivo', 'assistir', 'filmes', 'sapatão', 'drive', 'eh', '629', 'obs:', 'vale', 'vento', 'horrível,', 'gosta', 'irritar', 'inácio', '630', 'todas', 'categorias', 'completas', 'vencedores', '//os', 'cinéfilos', 'https://t.co/8vifqc8v2s', '631', 'veio', 'galera', 'oscar', 'travazap', '2020', '@brucegothm', '@liinewhite', '@karinepla', '@aaaaaalexandre', '@coachdpapainoel', '@acecilia__', '@discord', 'https://t.co/tqgq41sgdh', '632', 'ok', 'q', 'queimou', 'parte', 'cima', 'talvez', 'dê', 'salvar', '633', 'fiz', 'bolinho', 'cenoura', 'levar', 'vó', 'amanhã,', 'botei', 'forno,', 'arrumei', 'cozinha,', 'apaguei', 'luz', 'esqueci', 'bolo', 'agr', 'casa', 'tá', 'cherando', 'fumaça', 'tô', 'pneu', 'dentro', 'forma']\n"
          ],
          "name": "stdout"
        }
      ]
    },
    {
      "cell_type": "code",
      "metadata": {
        "id": "dHeEq_aL_NM-"
      },
      "source": [
        " word = [w for w in word if not w.startswith(\"http\")]"
      ],
      "execution_count": null,
      "outputs": []
    },
    {
      "cell_type": "code",
      "metadata": {
        "colab": {
          "base_uri": "https://localhost:8080/"
        },
        "id": "E_vsnAxwAC5H",
        "outputId": "beca00eb-4691-4354-e6cc-d6c4296c2095"
      },
      "source": [
        "print(len(word))"
      ],
      "execution_count": null,
      "outputs": [
        {
          "output_type": "stream",
          "text": [
            "1988987\n"
          ],
          "name": "stdout"
        }
      ]
    },
    {
      "cell_type": "code",
      "metadata": {
        "id": "IXD2Kqsr_NTb"
      },
      "source": [
        "word = [w for w in word if not w.startswith(\"@\")]"
      ],
      "execution_count": null,
      "outputs": []
    },
    {
      "cell_type": "code",
      "metadata": {
        "colab": {
          "base_uri": "https://localhost:8080/"
        },
        "id": "XTRVIGiKAD5P",
        "outputId": "217dc385-aeb8-451f-cefb-af513d1ae134"
      },
      "source": [
        "print(len(word))"
      ],
      "execution_count": null,
      "outputs": [
        {
          "output_type": "stream",
          "text": [
            "1899068\n"
          ],
          "name": "stdout"
        }
      ]
    },
    {
      "cell_type": "code",
      "metadata": {
        "id": "BjlqVzyM_NZ2"
      },
      "source": [
        "texto = \" \".join(word)\n",
        "#print((texto))"
      ],
      "execution_count": null,
      "outputs": []
    },
    {
      "cell_type": "code",
      "metadata": {
        "id": "W1M8qhgdlwjh"
      },
      "source": [
        "wc = WordCloud(\n",
        "    background_color='white',\n",
        "    height = 1920,\n",
        "    width=1080\n",
        "\n",
        ")"
      ],
      "execution_count": null,
      "outputs": []
    },
    {
      "cell_type": "code",
      "metadata": {
        "colab": {
          "base_uri": "https://localhost:8080/"
        },
        "id": "jEbmHtV7CL89",
        "outputId": "aa535970-8fb9-44aa-d8af-a44cdc055ae1"
      },
      "source": [
        "wc.generate(texto)"
      ],
      "execution_count": null,
      "outputs": [
        {
          "output_type": "execute_result",
          "data": {
            "text/plain": [
              "<wordcloud.wordcloud.WordCloud at 0x7f52952dff90>"
            ]
          },
          "metadata": {
            "tags": []
          },
          "execution_count": 66
        }
      ]
    },
    {
      "cell_type": "code",
      "metadata": {
        "colab": {
          "base_uri": "https://localhost:8080/"
        },
        "id": "FLvyb3btmOJ3",
        "outputId": "91bd0e0b-32fb-47d4-a5d0-9096b37fe3af"
      },
      "source": [
        "wc.to_file('NomeDoarquivo.png')"
      ],
      "execution_count": null,
      "outputs": [
        {
          "output_type": "execute_result",
          "data": {
            "text/plain": [
              "<wordcloud.wordcloud.WordCloud at 0x7f52952dff90>"
            ]
          },
          "metadata": {
            "tags": []
          },
          "execution_count": 67
        }
      ]
    },
    {
      "cell_type": "markdown",
      "metadata": {
        "id": "VE9ijtzYnzGN"
      },
      "source": [
        "# Nova seção"
      ]
    }
  ]
}